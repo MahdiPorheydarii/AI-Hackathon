{
 "cells": [
  {
   "cell_type": "code",
   "execution_count": 1,
   "metadata": {},
   "outputs": [],
   "source": [
    "import os\n",
    "from bs4 import BeautifulSoup\n",
    "import numpy as np"
   ]
  },
  {
   "cell_type": "code",
   "execution_count": 4,
   "metadata": {},
   "outputs": [
    {
     "name": "stderr",
     "output_type": "stream",
     "text": [
      "<>:2: SyntaxWarning: invalid escape sequence '\\d'\n",
      "<>:2: SyntaxWarning: invalid escape sequence '\\d'\n",
      "C:\\Users\\porim\\AppData\\Local\\Temp\\ipykernel_65244\\2741608172.py:2: SyntaxWarning: invalid escape sequence '\\d'\n",
      "  rootdir = '.\\data'\n"
     ]
    }
   ],
   "source": [
    "rootdir = 'C:\\\\Users\\\\ASUS\\\\Desktop\\\\hakaton\\\\data'\n",
    "ans = []"
   ]
  },
  {
   "cell_type": "code",
   "execution_count": 8,
   "metadata": {},
   "outputs": [
    {
     "name": "stdout",
     "output_type": "stream",
     "text": [
      "112\n"
     ]
    }
   ],
   "source": [
    "# First Part: Collect all unique news sources\n",
    "for file in os.listdir(rootdir):\n",
    "    newdir = os.path.join(rootdir, file)\n",
    "    for newfile in os.listdir(newdir):\n",
    "        if newfile not in ans:\n",
    "            ans.append(newfile)\n",
    "print(len(ans))"
   ]
  },
  {
   "cell_type": "code",
   "execution_count": 9,
   "metadata": {},
   "outputs": [
    {
     "name": "stdout",
     "output_type": "stream",
     "text": [
      "sharghdaily\n"
     ]
    }
   ],
   "source": [
    "# Second Part: Count the number of HTML files for each news source and find the source with the most HTML files\n",
    "html_counter = {source: 0 for source in ans}\n",
    "\n",
    "for file in os.listdir(rootdir):\n",
    "    newdir = os.path.join(rootdir, file)\n",
    "    for newfile in os.listdir(newdir):\n",
    "        newnewdir = os.path.join(newdir, newfile)\n",
    "        html_counter[newfile] += len(os.listdir(newnewdir))\n",
    "\n",
    "max_html_count = -1\n",
    "max_source = ''\n",
    "for source, count in html_counter.items():\n",
    "    if count >= max_html_count:\n",
    "        max_html_count = count\n",
    "        max_source = source\n",
    "print(max_source)"
   ]
  },
  {
   "cell_type": "code",
   "execution_count": 11,
   "metadata": {},
   "outputs": [
    {
     "name": "stdout",
     "output_type": "stream",
     "text": [
      "398,183,112\n"
     ]
    }
   ],
   "source": [
    "# Third Part: Count occurrences of specific words in <p> tags for the news source \"varzesh3\"\n",
    "football = 0\n",
    "volleyball = 0\n",
    "kk = 0\n",
    "for file in os.listdir(rootdir):\n",
    "    newdir = os.path.join(rootdir, file)\n",
    "    for newfile in os.listdir(newdir):\n",
    "        if(newfile != \"varzesh3\"):\n",
    "            continue\n",
    "        newnewdir = os.path.join(newdir, newfile)\n",
    "        for newnewfile in os.listdir(newnewdir):\n",
    "            f = open(os.path.join(newnewdir, newnewfile), 'r', encoding=\"utf8\")\n",
    "            contents = f.read()\n",
    "            soup = BeautifulSoup(contents, \"html.parser\")\n",
    "            for item in soup.find_all(\"p\"):\n",
    "                item = str(item)\n",
    "                for i in item.split(\" \"):\n",
    "                    i = i.strip()\n",
    "                    if((\"فوتبال\"in i) and \"(\" in i):\n",
    "                        words = i.split(\"فوتبال\")\n",
    "                        word = \"\".join(words)\n",
    "                        words  = word.split(\"(\")\n",
    "                        word = \"\".join(words)\n",
    "                        if(len(word) == 0):\n",
    "                            football += 1\n",
    "                    if((\"کشتی\"in i) and \"(\" in i):\n",
    "                        words = i.split(\"فوتبال\")\n",
    "                        word = \"\".join(words)\n",
    "                        words  = word.split(\"(\")\n",
    "                        word = \"\".join(words);kk+=2\n",
    "                    if(i == \"فوتبال\" or i == \"فوتبال،\" or i == \"فوتبال.\" or i == \"فوتبال:\" or i == \"فوتبال؛\" ):\n",
    "                        football += 1\n",
    "                    if(i == \"والیبال\" or i == \"والیبال،\" or i == \"والیبال.\" or i == \"والیبال:\" or i == \"والیبال؛\"):\n",
    "                        volleyball += 1\n",
    "                    if(i == \"کشتی\" or i == \"کشتی،\" or i == \"کشتی:\" or i == \"کشتی؛\"):\n",
    "                        kk += 1\n",
    "print(str(volleyball) + \",\" + str(k k) + \",\" + str(football))"
   ]
  },
  {
   "cell_type": "code",
   "execution_count": 14,
   "metadata": {},
   "outputs": [
    {
     "name": "stdout",
     "output_type": "stream",
     "text": [
      "b'\\xd8\\xa7\\xdb\\x8c\\xd8\\xb1\\xd8\\xa7\\xd9\\x86'\n"
     ]
    }
   ],
   "source": [
    "# Fourth Part: Find the most repeated word in <h2> tags for news collected on 2023-08-01, excluding stopwords\n",
    "stopwords = np.load(\"data/stopwords.npy\")\n",
    "words = {}\n",
    "\n",
    "for file in os.listdir(rootdir):\n",
    "    if file != \"2023-08-01\":\n",
    "        continue\n",
    "    newdir = os.path.join(rootdir, file)\n",
    "    for newfile in os.listdir(newdir):\n",
    "        newnewdir = os.path.join(newdir, newfile)\n",
    "        for newnewfile in os.listdir(newnewdir):\n",
    "            with open(os.path.join(newnewdir, newnewfile), 'r', encoding=\"utf8\") as f:\n",
    "                contents = f.read()\n",
    "                soup = BeautifulSoup(contents, \"html.parser\")\n",
    "                for item in soup.find_all(\"h2\"):\n",
    "                    item = str(item)\n",
    "                    for i in item.split(\" \"):\n",
    "                        i = i.strip()\n",
    "                        if \"h\" in i or i in stopwords:\n",
    "                            continue\n",
    "                        if i in words:\n",
    "                            words[i] += 1\n",
    "                        else:\n",
    "                            words[i] = 1\n",
    "\n",
    "max_count = -1\n",
    "most_repeated_word = ''\n",
    "for word, count in words.items():\n",
    "    if count > max_count:\n",
    "        max_count = count\n",
    "        most_repeated_word = word\n",
    "\n",
    "print(most_repeated_word.encode(\"utf8\"))"
   ]
  },
  {
   "cell_type": "code",
   "execution_count": 16,
   "metadata": {},
   "outputs": [],
   "source": [
    "#decodes to:\n",
    "# ایران"
   ]
  },
  {
   "cell_type": "code",
   "execution_count": null,
   "metadata": {},
   "outputs": [],
   "source": []
  }
 ],
 "metadata": {
  "kernelspec": {
   "display_name": "Python 3",
   "language": "python",
   "name": "python3"
  },
  "language_info": {
   "codemirror_mode": {
    "name": "ipython",
    "version": 3
   },
   "file_extension": ".py",
   "mimetype": "text/x-python",
   "name": "python",
   "nbconvert_exporter": "python",
   "pygments_lexer": "ipython3",
   "version": "3.12.1"
  }
 },
 "nbformat": 4,
 "nbformat_minor": 2
}
